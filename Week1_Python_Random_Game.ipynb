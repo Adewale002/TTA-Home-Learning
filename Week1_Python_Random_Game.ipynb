{
 "cells": [
  {
   "cell_type": "code",
   "execution_count": 2,
   "metadata": {},
   "outputs": [
    {
     "name": "stdout",
     "output_type": "stream",
     "text": [
      "Hello Adetona welcome to the guessing game!\n",
      "Wrong guess, the computer number was 9\n"
     ]
    }
   ],
   "source": [
    "# Random Guessing Game \n",
    "\n",
    "import random \n",
    "\n",
    "number = random.randint(1,10) # this will generate a random number from 1 to 10\n",
    "\n",
    "name = input(\"What is your name?\") # this asks the user their name \n",
    "\n",
    "print(\"Hello\", name, \"welcome to the guessing game!\")\n",
    "\n",
    "# ask the user to guess a number \n",
    "\n",
    "guess = int(input(\" Guess a number from 1 to 10\"))  # this is where the user guesses their number \n",
    "\n",
    "# IF statement to see if the users guess is the same as the computer guess\n",
    "\n",
    "if guess == number:\n",
    "    print(\"You guessed corrctly\")\n",
    "else:\n",
    "    print(\"Wrong guess, the computer number was\", number)\n",
    "\n",
    "    "
   ]
  }
 ],
 "metadata": {
  "interpreter": {
   "hash": "2c1f51f1602438cbebfb8a0e6c77cc8bf3993e1dbb23b3021cb01e21517b3443"
  },
  "kernelspec": {
   "display_name": "Python 3.10.2 64-bit",
   "language": "python",
   "name": "python3"
  },
  "language_info": {
   "codemirror_mode": {
    "name": "ipython",
    "version": 3
   },
   "file_extension": ".py",
   "mimetype": "text/x-python",
   "name": "python",
   "nbconvert_exporter": "python",
   "pygments_lexer": "ipython3",
   "version": "3.10.2"
  },
  "orig_nbformat": 4
 },
 "nbformat": 4,
 "nbformat_minor": 2
}
